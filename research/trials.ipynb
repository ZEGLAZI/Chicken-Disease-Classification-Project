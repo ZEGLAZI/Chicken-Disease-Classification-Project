{
 "cells": [
  {
   "cell_type": "code",
   "execution_count": 34,
   "metadata": {},
   "outputs": [],
   "source": [
    "import os\n",
    "import shutil\n",
    "from pathlib import Path"
   ]
  },
  {
   "cell_type": "code",
   "execution_count": 37,
   "metadata": {},
   "outputs": [],
   "source": [
    "import os\n",
    "import shutil\n",
    "\n",
    "class ImageSorter:\n",
    "    def __init__(self, dataset_dir):\n",
    "        self.dataset_dir = dataset_dir\n",
    "        self.healthy_dir = os.path.join(dataset_dir, 'healthy')\n",
    "        self.coccidiosis_dir = os.path.join(dataset_dir, 'Coccidiosis')\n",
    "\n",
    "        # Create directories if they do not exist\n",
    "        os.makedirs(self.healthy_dir, exist_ok=True)\n",
    "        os.makedirs(self.coccidiosis_dir, exist_ok=True)\n",
    "\n",
    "    def sort_images(self):\n",
    "        for filename in os.listdir(self.dataset_dir):\n",
    "            file_path = os.path.join(self.dataset_dir, filename)\n",
    "            if os.path.isfile(file_path):  # Make sure it's a file, not a directory\n",
    "                if filename.startswith('healthy'):\n",
    "                    shutil.move(file_path, os.path.join(self.healthy_dir, filename))\n",
    "                elif filename.startswith('cocci'):\n",
    "                    shutil.move(file_path, os.path.join(self.coccidiosis_dir, filename))\n",
    "\n",
    "# Example usage\n",
    "dataset_dir = \"/Users/zeglazi/Downloads/chiken_desease/train\"\n",
    "sorter = ImageSorter(dataset_dir)\n",
    "sorter.sort_images()"
   ]
  }
 ],
 "metadata": {
  "kernelspec": {
   "display_name": "Python 3.12.3 ('.venv': venv)",
   "language": "python",
   "name": "python3"
  },
  "language_info": {
   "codemirror_mode": {
    "name": "ipython",
    "version": 3
   },
   "file_extension": ".py",
   "mimetype": "text/x-python",
   "name": "python",
   "nbconvert_exporter": "python",
   "pygments_lexer": "ipython3",
   "version": "3.9.19"
  },
  "orig_nbformat": 4,
  "vscode": {
   "interpreter": {
    "hash": "4d393c9e83693c2edcfe347db0bf8c5f653cdbffe5fe3276b87612f81d81747c"
   }
  }
 },
 "nbformat": 4,
 "nbformat_minor": 2
}
